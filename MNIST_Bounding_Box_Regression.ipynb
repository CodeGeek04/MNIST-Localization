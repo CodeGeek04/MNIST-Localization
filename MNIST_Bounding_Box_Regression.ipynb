{
  "nbformat": 4,
  "nbformat_minor": 0,
  "metadata": {
    "colab": {
      "provenance": [],
      "gpuType": "T4"
    },
    "kernelspec": {
      "name": "python3",
      "display_name": "Python 3"
    },
    "language_info": {
      "name": "python"
    },
    "accelerator": "GPU"
  },
  "cells": [
    {
      "cell_type": "code",
      "execution_count": 13,
      "metadata": {
        "id": "lg7B1Jac7BPc"
      },
      "outputs": [],
      "source": [
        "import pandas as pd\n",
        "import os\n",
        "import torch\n",
        "import torch.nn as nn\n",
        "import torchvision\n",
        "from torch.utils.data import Dataset, DataLoader\n",
        "import torchvision.transforms as transforms\n",
        "from skimage import io\n",
        "from tqdm import tqdm\n",
        "from sklearn.metrics import confusion_matrix, ConfusionMatrixDisplay\n",
        "import matplotlib.pyplot as plt\n",
        "import torch.nn.functional as F\n",
        "import numpy as np\n",
        "import random"
      ]
    },
    {
      "cell_type": "code",
      "source": [
        "from google.colab import drive\n",
        "drive.mount('/content/drive')"
      ],
      "metadata": {
        "id": "sIzLsaac30Nk",
        "colab": {
          "base_uri": "https://localhost:8080/"
        },
        "outputId": "7365b5f7-e43d-4584-8d6c-f538f5f78871"
      },
      "execution_count": 2,
      "outputs": [
        {
          "output_type": "stream",
          "name": "stdout",
          "text": [
            "Mounted at /content/drive\n"
          ]
        }
      ]
    },
    {
      "cell_type": "code",
      "source": [
        "import zipfile\n",
        "\n",
        "zip_path = \"/content/drive/MyDrive/MNIST_Bounding_Box/MNIST_Converted_Testing.zip\"\n",
        "output_dir = \"/content/MNIST\"\n",
        "\n",
        "with zipfile.ZipFile(zip_path, 'r') as zip_ref:\n",
        "    zip_ref.extractall(output_dir)\n",
        "\n",
        "zip_path = \"/content/drive/MyDrive/MNIST_Bounding_Box/MNIST_Converted_Training.zip\"\n",
        "output_dir = \"/content/MNIST\"\n",
        "\n",
        "with zipfile.ZipFile(zip_path, 'r') as zip_ref:\n",
        "    zip_ref.extractall(output_dir)"
      ],
      "metadata": {
        "id": "BR05A68q8N2h"
      },
      "execution_count": 3,
      "outputs": []
    },
    {
      "cell_type": "code",
      "source": [
        "df1 = pd.read_csv(\"/content/drive/MyDrive/MNIST_Bounding_Box/training_data.csv\", header = None)\n",
        "root_dir1 = \"/content/MNIST/MNIST_Converted_Training\"\n",
        "df2 = pd.read_csv(\"/content/drive/MyDrive/MNIST_Bounding_Box/test_data.csv\", header = None)\n",
        "root_dir2 = \"/content/MNIST/MNIST_Converted_Testing\"\n",
        "print(df1, df2)"
      ],
      "metadata": {
        "colab": {
          "base_uri": "https://localhost:8080/"
        },
        "id": "cAdnYc-88fdE",
        "outputId": "0045e936-7508-4421-cb91-c07e20396757"
      },
      "execution_count": 4,
      "outputs": [
        {
          "output_type": "stream",
          "name": "stdout",
          "text": [
            "                                 0  1   2   3\n",
            "0          converted_training1.png  5  20   0\n",
            "1          converted_training2.png  0  33  13\n",
            "2          converted_training3.png  4  14   7\n",
            "3          converted_training4.png  1  33  38\n",
            "4          converted_training5.png  9  68   3\n",
            "...                            ... ..  ..  ..\n",
            "59995  converted_training59996.png  8  39   4\n",
            "59996  converted_training59997.png  3  52  28\n",
            "59997  converted_training59998.png  5   5  26\n",
            "59998  converted_training59999.png  6  45  40\n",
            "59999  converted_training60000.png  8  34  57\n",
            "\n",
            "[60000 rows x 4 columns]                                0  1   2   3\n",
            "0         converted_testing1.png  7  59  44\n",
            "1         converted_testing2.png  2  48  11\n",
            "2         converted_testing3.png  1  65  30\n",
            "3         converted_testing4.png  0  10   3\n",
            "4         converted_testing5.png  4  38  60\n",
            "...                          ... ..  ..  ..\n",
            "9995   converted_testing9996.png  2  11  38\n",
            "9996   converted_testing9997.png  3  63  27\n",
            "9997   converted_testing9998.png  4  60  49\n",
            "9998   converted_testing9999.png  5   1  13\n",
            "9999  converted_testing10000.png  6  24  54\n",
            "\n",
            "[10000 rows x 4 columns]\n"
          ]
        }
      ]
    },
    {
      "cell_type": "code",
      "source": [
        "class MNIST_Dataset(Dataset):\n",
        "    def __init__(self, dataframe, root_dir):\n",
        "        self.annotations = dataframe\n",
        "        self.root_dir = root_dir\n",
        "\n",
        "    def __len__(self):\n",
        "        return len(self.annotations)\n",
        "\n",
        "    def __getitem__(self,index):\n",
        "        img_path = os.path.join(self.root_dir, self.annotations.iloc[index, 0])\n",
        "        image = io.imread(img_path)\n",
        "        image = torch.tensor(image).double().unsqueeze(0)\n",
        "\n",
        "        y_label=torch.tensor(int(self.annotations.iloc[index, 1]))\n",
        "\n",
        "        corners = torch.tensor(self.annotations.iloc[index, 2 : ].values.astype(float)).double() / 100\n",
        "\n",
        "        return (image, y_label, corners)"
      ],
      "metadata": {
        "id": "pKGZt8b_929F"
      },
      "execution_count": 5,
      "outputs": []
    },
    {
      "cell_type": "code",
      "source": [
        "batch_size = 100\n",
        "train_dataset = MNIST_Dataset(df1, root_dir1)\n",
        "test_dataset = MNIST_Dataset(df2, root_dir2)\n",
        "\n",
        "device = 'cuda' if torch.cuda.is_available() else 'cpu'"
      ],
      "metadata": {
        "id": "umUfeMM793As"
      },
      "execution_count": 6,
      "outputs": []
    },
    {
      "cell_type": "code",
      "source": [
        "train_loader = DataLoader(train_dataset, batch_size=batch_size, shuffle=True)\n",
        "test_loader = DataLoader(test_dataset, batch_size=batch_size, shuffle=False)"
      ],
      "metadata": {
        "id": "THzknPpR93EH"
      },
      "execution_count": 7,
      "outputs": []
    },
    {
      "cell_type": "code",
      "source": [
        "class CNN1(nn.Module):\n",
        "    def __init__(self):\n",
        "        super(CNN1, self).__init__()\n",
        "        self.cnn = nn.Sequential(\n",
        "            nn.Conv2d(1,32, kernel_size = 4, stride = 2, padding = 1),\n",
        "            nn.Conv2d(32, 64, kernel_size = 3, stride = 1, padding = 1),\n",
        "            nn.MaxPool2d(kernel_size = 2, stride = 2, padding = 0),\n",
        "            nn.Conv2d(64, 128, kernel_size = 3, stride = 1, padding = 1),\n",
        "            nn.MaxPool2d(kernel_size = 2, stride = 2, padding = 0),\n",
        "            nn.Conv2d(128, 128, kernel_size = 3, stride = 1, padding = 1),\n",
        "            nn.MaxPool2d(kernel_size = 2, stride = 2, padding = 0),\n",
        "            nn.Conv2d(128, 256, kernel_size = 3, stride = 1, padding = 1),\n",
        "            nn.MaxPool2d(kernel_size = 2, stride = 2, padding = 0))\n",
        "\n",
        "        # self.fc1 = nn.Linear(760384, 16928)\n",
        "        self.fc = nn.Sequential(nn.Flatten(),\n",
        "                                nn.Linear(2304, 500),\n",
        "                                nn.Linear(500, 2),\n",
        "                                 nn.Sigmoid())\n",
        "\n",
        "    def forward(self,data):\n",
        "        x = self.cnn(data)\n",
        "        bb = self.fc(x)\n",
        "        return bb\n",
        "\n",
        "model1 = CNN1().double().to(device)\n",
        "model1"
      ],
      "metadata": {
        "id": "SbZwmS4c7Ikl",
        "colab": {
          "base_uri": "https://localhost:8080/"
        },
        "outputId": "7b4eba4c-43f2-4eb4-de46-d85055c5dc78"
      },
      "execution_count": 8,
      "outputs": [
        {
          "output_type": "execute_result",
          "data": {
            "text/plain": [
              "CNN1(\n",
              "  (cnn): Sequential(\n",
              "    (0): Conv2d(1, 32, kernel_size=(4, 4), stride=(2, 2), padding=(1, 1))\n",
              "    (1): Conv2d(32, 64, kernel_size=(3, 3), stride=(1, 1), padding=(1, 1))\n",
              "    (2): MaxPool2d(kernel_size=2, stride=2, padding=0, dilation=1, ceil_mode=False)\n",
              "    (3): Conv2d(64, 128, kernel_size=(3, 3), stride=(1, 1), padding=(1, 1))\n",
              "    (4): MaxPool2d(kernel_size=2, stride=2, padding=0, dilation=1, ceil_mode=False)\n",
              "    (5): Conv2d(128, 128, kernel_size=(3, 3), stride=(1, 1), padding=(1, 1))\n",
              "    (6): MaxPool2d(kernel_size=2, stride=2, padding=0, dilation=1, ceil_mode=False)\n",
              "    (7): Conv2d(128, 256, kernel_size=(3, 3), stride=(1, 1), padding=(1, 1))\n",
              "    (8): MaxPool2d(kernel_size=2, stride=2, padding=0, dilation=1, ceil_mode=False)\n",
              "  )\n",
              "  (fc): Sequential(\n",
              "    (0): Flatten(start_dim=1, end_dim=-1)\n",
              "    (1): Linear(in_features=2304, out_features=500, bias=True)\n",
              "    (2): Linear(in_features=500, out_features=2, bias=True)\n",
              "    (3): Sigmoid()\n",
              "  )\n",
              ")"
            ]
          },
          "metadata": {},
          "execution_count": 8
        }
      ]
    },
    {
      "cell_type": "code",
      "source": [
        "class CNN2(nn.Module):\n",
        "    def __init__(self):\n",
        "        super(CNN2, self).__init__()\n",
        "        self.cnn = nn.Sequential(\n",
        "            nn.Conv2d(1,32, kernel_size = 4, stride = 2, padding = 1),\n",
        "            nn.Conv2d(32, 64, kernel_size = 3, stride = 1, padding = 1),\n",
        "            nn.MaxPool2d(kernel_size = 2, stride = 2, padding = 0),\n",
        "            nn.Conv2d(64, 128, kernel_size = 3, stride = 1, padding = 1),\n",
        "            nn.ReLU(),\n",
        "            nn.Conv2d(128, 128, kernel_size = 3, stride = 1, padding = 1),\n",
        "            nn.MaxPool2d(kernel_size = 2, stride = 2, padding = 0),\n",
        "            nn.Conv2d(128, 256, kernel_size = 3, stride = 1, padding = 1),\n",
        "            nn.MaxPool2d(kernel_size = 2, stride = 2, padding = 0))\n",
        "\n",
        "        self.classifier = nn.Sequential(\n",
        "                                  nn.Conv2d(256, 512, kernel_size = 3, stride = 1, padding = 1),\n",
        "                                  nn.MaxPool2d(kernel_size = 2, stride = 2, padding = 0),\n",
        "                                  nn.Flatten(),\n",
        "                                  nn.ReLU(),\n",
        "                                  nn.Linear(4608, 10),\n",
        "                                 nn.Sigmoid())\n",
        "\n",
        "    def forward(self,data):\n",
        "        x = self.cnn(data)\n",
        "        cls = self.classifier(x)\n",
        "        return cls\n",
        "\n",
        "model2 = CNN2().double().to(device)\n",
        "model2"
      ],
      "metadata": {
        "colab": {
          "base_uri": "https://localhost:8080/"
        },
        "id": "N8uGWt9UpvoT",
        "outputId": "7eda1ebb-76f6-4ca1-f7e8-b30266f57409"
      },
      "execution_count": 9,
      "outputs": [
        {
          "output_type": "execute_result",
          "data": {
            "text/plain": [
              "CNN2(\n",
              "  (cnn): Sequential(\n",
              "    (0): Conv2d(1, 32, kernel_size=(4, 4), stride=(2, 2), padding=(1, 1))\n",
              "    (1): Conv2d(32, 64, kernel_size=(3, 3), stride=(1, 1), padding=(1, 1))\n",
              "    (2): MaxPool2d(kernel_size=2, stride=2, padding=0, dilation=1, ceil_mode=False)\n",
              "    (3): Conv2d(64, 128, kernel_size=(3, 3), stride=(1, 1), padding=(1, 1))\n",
              "    (4): ReLU()\n",
              "    (5): Conv2d(128, 128, kernel_size=(3, 3), stride=(1, 1), padding=(1, 1))\n",
              "    (6): MaxPool2d(kernel_size=2, stride=2, padding=0, dilation=1, ceil_mode=False)\n",
              "    (7): Conv2d(128, 256, kernel_size=(3, 3), stride=(1, 1), padding=(1, 1))\n",
              "    (8): MaxPool2d(kernel_size=2, stride=2, padding=0, dilation=1, ceil_mode=False)\n",
              "  )\n",
              "  (classifier): Sequential(\n",
              "    (0): Conv2d(256, 512, kernel_size=(3, 3), stride=(1, 1), padding=(1, 1))\n",
              "    (1): MaxPool2d(kernel_size=2, stride=2, padding=0, dilation=1, ceil_mode=False)\n",
              "    (2): Flatten(start_dim=1, end_dim=-1)\n",
              "    (3): ReLU()\n",
              "    (4): Linear(in_features=4608, out_features=10, bias=True)\n",
              "    (5): Sigmoid()\n",
              "  )\n",
              ")"
            ]
          },
          "metadata": {},
          "execution_count": 9
        }
      ]
    },
    {
      "cell_type": "code",
      "source": [
        "total_step = len(train_loader)\n",
        "acc_lst = []\n",
        "loss_lst = []\n",
        "classes=[0,1]\n",
        "num_epochs = 4\n",
        "loss_criteria_cls = nn.CrossEntropyLoss()\n",
        "loss_criteria_bb = nn.MSELoss()\n",
        "optimizer1 = torch.optim.Adam(model1.parameters(), lr = 0.00006)\n",
        "optimizer2 = torch.optim.Adam(model2.parameters(), lr = 0.00006)\n",
        "for epoch in range(num_epochs):\n",
        "    for i, (images, labels, corners) in enumerate(tqdm(train_loader)):\n",
        "        images = images.to(device)\n",
        "        labels = F.one_hot(labels, num_classes=10)\n",
        "        labels = labels.type(torch.FloatTensor)\n",
        "        labels = labels.to(device)\n",
        "\n",
        "        corners = corners.to(device)\n",
        "\n",
        "        bb = model1(images)\n",
        "        cls = model2(images)\n",
        "\n",
        "        loss_cls = loss_criteria_cls(cls, labels)\n",
        "        loss_lst.append(loss_cls.item())\n",
        "\n",
        "        optimizer2.zero_grad()\n",
        "        loss_cls.backward()\n",
        "        optimizer2.step()\n",
        "\n",
        "        loss_bb = loss_criteria_bb(bb, corners)\n",
        "        loss_lst.append(loss_bb.item())\n",
        "\n",
        "        optimizer1.zero_grad()\n",
        "        loss_bb.double().backward()\n",
        "        optimizer1.step()\n",
        "\n",
        "        labels =  torch.argmax(labels, dim=1)\n",
        "        total = labels.size(0)\n",
        "        _, predicted = torch.max(cls.data, 1)\n",
        "        correct = (predicted == labels).sum().item()\n",
        "        acc_lst.append((correct / total) * 100)\n",
        "        if i%50 == 0:\n",
        "            print('Epoch [{}/{}], Loss_Cls: {:.8f}, Loss_bb: {:.8f}, Accuracy:{:.2f}%'.format(epoch + 1, num_epochs, loss_cls.item(), loss_bb.item(), (correct / total) * 100))\n",
        "\n",
        "    print(bb[0], corners[0])\n",
        "    print('Epoch [{}/{}], Loss_Cls: {:.8f}, Loss_bb: {:.8f}, Accuracy:{:.2f}%'.format(epoch + 1, num_epochs, loss_lst[-2], loss_lst[-1], acc_lst[-1]))"
      ],
      "metadata": {
        "colab": {
          "base_uri": "https://localhost:8080/"
        },
        "id": "t9OObl723-TC",
        "outputId": "8c40d3ad-2d67-46d0-e750-eaffec1f7266"
      },
      "execution_count": 12,
      "outputs": [
        {
          "output_type": "stream",
          "name": "stderr",
          "text": [
            "  0%|          | 1/600 [00:01<15:58,  1.60s/it]"
          ]
        },
        {
          "output_type": "stream",
          "name": "stdout",
          "text": [
            "Epoch [1/2], Loss_Cls: 1.70073927, Loss_bb: 0.00030139, Accuracy:81.00%\n"
          ]
        },
        {
          "output_type": "stream",
          "name": "stderr",
          "text": [
            "  8%|▊         | 51/600 [01:12<12:44,  1.39s/it]"
          ]
        },
        {
          "output_type": "stream",
          "name": "stdout",
          "text": [
            "Epoch [1/2], Loss_Cls: 1.65751119, Loss_bb: 0.00037437, Accuracy:82.00%\n"
          ]
        },
        {
          "output_type": "stream",
          "name": "stderr",
          "text": [
            " 17%|█▋        | 101/600 [02:22<11:42,  1.41s/it]"
          ]
        },
        {
          "output_type": "stream",
          "name": "stdout",
          "text": [
            "Epoch [1/2], Loss_Cls: 1.60437821, Loss_bb: 0.00025738, Accuracy:85.00%\n"
          ]
        },
        {
          "output_type": "stream",
          "name": "stderr",
          "text": [
            " 25%|██▌       | 151/600 [03:32<10:31,  1.41s/it]"
          ]
        },
        {
          "output_type": "stream",
          "name": "stdout",
          "text": [
            "Epoch [1/2], Loss_Cls: 1.61880107, Loss_bb: 0.00027892, Accuracy:84.00%\n"
          ]
        },
        {
          "output_type": "stream",
          "name": "stderr",
          "text": [
            " 34%|███▎      | 201/600 [04:42<09:18,  1.40s/it]"
          ]
        },
        {
          "output_type": "stream",
          "name": "stdout",
          "text": [
            "Epoch [1/2], Loss_Cls: 1.58085335, Loss_bb: 0.00019482, Accuracy:90.00%\n"
          ]
        },
        {
          "output_type": "stream",
          "name": "stderr",
          "text": [
            " 42%|████▏     | 251/600 [05:52<08:11,  1.41s/it]"
          ]
        },
        {
          "output_type": "stream",
          "name": "stdout",
          "text": [
            "Epoch [1/2], Loss_Cls: 1.55967623, Loss_bb: 0.00021520, Accuracy:91.00%\n"
          ]
        },
        {
          "output_type": "stream",
          "name": "stderr",
          "text": [
            " 50%|█████     | 301/600 [07:02<07:01,  1.41s/it]"
          ]
        },
        {
          "output_type": "stream",
          "name": "stdout",
          "text": [
            "Epoch [1/2], Loss_Cls: 1.54782122, Loss_bb: 0.00019027, Accuracy:91.00%\n"
          ]
        },
        {
          "output_type": "stream",
          "name": "stderr",
          "text": [
            " 58%|█████▊    | 351/600 [08:12<05:52,  1.42s/it]"
          ]
        },
        {
          "output_type": "stream",
          "name": "stdout",
          "text": [
            "Epoch [1/2], Loss_Cls: 1.56341951, Loss_bb: 0.00018131, Accuracy:92.00%\n"
          ]
        },
        {
          "output_type": "stream",
          "name": "stderr",
          "text": [
            " 67%|██████▋   | 401/600 [09:22<04:39,  1.41s/it]"
          ]
        },
        {
          "output_type": "stream",
          "name": "stdout",
          "text": [
            "Epoch [1/2], Loss_Cls: 1.55729722, Loss_bb: 0.00016102, Accuracy:88.00%\n"
          ]
        },
        {
          "output_type": "stream",
          "name": "stderr",
          "text": [
            " 75%|███████▌  | 451/600 [10:32<03:30,  1.41s/it]"
          ]
        },
        {
          "output_type": "stream",
          "name": "stdout",
          "text": [
            "Epoch [1/2], Loss_Cls: 1.55097845, Loss_bb: 0.00015333, Accuracy:92.00%\n"
          ]
        },
        {
          "output_type": "stream",
          "name": "stderr",
          "text": [
            " 84%|████████▎ | 501/600 [11:42<02:23,  1.45s/it]"
          ]
        },
        {
          "output_type": "stream",
          "name": "stdout",
          "text": [
            "Epoch [1/2], Loss_Cls: 1.55417885, Loss_bb: 0.00015422, Accuracy:87.00%\n"
          ]
        },
        {
          "output_type": "stream",
          "name": "stderr",
          "text": [
            " 92%|█████████▏| 551/600 [12:52<01:09,  1.41s/it]"
          ]
        },
        {
          "output_type": "stream",
          "name": "stdout",
          "text": [
            "Epoch [1/2], Loss_Cls: 1.50958594, Loss_bb: 0.00019451, Accuracy:93.00%\n"
          ]
        },
        {
          "output_type": "stream",
          "name": "stderr",
          "text": [
            "100%|██████████| 600/600 [14:01<00:00,  1.40s/it]\n"
          ]
        },
        {
          "output_type": "stream",
          "name": "stdout",
          "text": [
            "tensor([0.4147, 0.5947], device='cuda:0', dtype=torch.float64,\n",
            "       grad_fn=<SelectBackward0>) tensor([0.4000, 0.6000], device='cuda:0', dtype=torch.float64)\n",
            "Epoch [1/2], Loss_Cls: 1.52997388, Loss_bb: 0.00018601, Accuracy:95.00%\n"
          ]
        },
        {
          "output_type": "stream",
          "name": "stderr",
          "text": [
            "  0%|          | 1/600 [00:01<13:51,  1.39s/it]"
          ]
        },
        {
          "output_type": "stream",
          "name": "stdout",
          "text": [
            "Epoch [2/2], Loss_Cls: 1.50892939, Loss_bb: 0.00012339, Accuracy:97.00%\n"
          ]
        },
        {
          "output_type": "stream",
          "name": "stderr",
          "text": [
            "  8%|▊         | 51/600 [01:13<12:53,  1.41s/it]"
          ]
        },
        {
          "output_type": "stream",
          "name": "stdout",
          "text": [
            "Epoch [2/2], Loss_Cls: 1.49338004, Loss_bb: 0.00012166, Accuracy:97.00%\n"
          ]
        },
        {
          "output_type": "stream",
          "name": "stderr",
          "text": [
            " 17%|█▋        | 101/600 [02:23<11:44,  1.41s/it]"
          ]
        },
        {
          "output_type": "stream",
          "name": "stdout",
          "text": [
            "Epoch [2/2], Loss_Cls: 1.51396760, Loss_bb: 0.00010083, Accuracy:94.00%\n"
          ]
        },
        {
          "output_type": "stream",
          "name": "stderr",
          "text": [
            " 25%|██▌       | 151/600 [03:33<10:35,  1.42s/it]"
          ]
        },
        {
          "output_type": "stream",
          "name": "stdout",
          "text": [
            "Epoch [2/2], Loss_Cls: 1.52001406, Loss_bb: 0.00012686, Accuracy:96.00%\n"
          ]
        },
        {
          "output_type": "stream",
          "name": "stderr",
          "text": [
            " 34%|███▎      | 201/600 [04:43<09:20,  1.40s/it]"
          ]
        },
        {
          "output_type": "stream",
          "name": "stdout",
          "text": [
            "Epoch [2/2], Loss_Cls: 1.51006085, Loss_bb: 0.00009340, Accuracy:95.00%\n"
          ]
        },
        {
          "output_type": "stream",
          "name": "stderr",
          "text": [
            " 42%|████▏     | 251/600 [05:53<08:09,  1.40s/it]"
          ]
        },
        {
          "output_type": "stream",
          "name": "stdout",
          "text": [
            "Epoch [2/2], Loss_Cls: 1.49387888, Loss_bb: 0.00009217, Accuracy:99.00%\n"
          ]
        },
        {
          "output_type": "stream",
          "name": "stderr",
          "text": [
            " 50%|█████     | 301/600 [07:03<07:00,  1.41s/it]"
          ]
        },
        {
          "output_type": "stream",
          "name": "stdout",
          "text": [
            "Epoch [2/2], Loss_Cls: 1.52984195, Loss_bb: 0.00010273, Accuracy:94.00%\n"
          ]
        },
        {
          "output_type": "stream",
          "name": "stderr",
          "text": [
            " 58%|█████▊    | 351/600 [08:13<05:49,  1.41s/it]"
          ]
        },
        {
          "output_type": "stream",
          "name": "stdout",
          "text": [
            "Epoch [2/2], Loss_Cls: 1.49803758, Loss_bb: 0.00013691, Accuracy:99.00%\n"
          ]
        },
        {
          "output_type": "stream",
          "name": "stderr",
          "text": [
            " 67%|██████▋   | 401/600 [09:23<04:40,  1.41s/it]"
          ]
        },
        {
          "output_type": "stream",
          "name": "stdout",
          "text": [
            "Epoch [2/2], Loss_Cls: 1.50485928, Loss_bb: 0.00010694, Accuracy:96.00%\n"
          ]
        },
        {
          "output_type": "stream",
          "name": "stderr",
          "text": [
            " 75%|███████▌  | 451/600 [10:35<04:03,  1.64s/it]"
          ]
        },
        {
          "output_type": "stream",
          "name": "stdout",
          "text": [
            "Epoch [2/2], Loss_Cls: 1.50833296, Loss_bb: 0.00007465, Accuracy:96.00%\n"
          ]
        },
        {
          "output_type": "stream",
          "name": "stderr",
          "text": [
            " 84%|████████▎ | 501/600 [11:47<02:21,  1.43s/it]"
          ]
        },
        {
          "output_type": "stream",
          "name": "stdout",
          "text": [
            "Epoch [2/2], Loss_Cls: 1.50650116, Loss_bb: 0.00010049, Accuracy:96.00%\n"
          ]
        },
        {
          "output_type": "stream",
          "name": "stderr",
          "text": [
            " 92%|█████████▏| 551/600 [12:57<01:08,  1.41s/it]"
          ]
        },
        {
          "output_type": "stream",
          "name": "stdout",
          "text": [
            "Epoch [2/2], Loss_Cls: 1.50169504, Loss_bb: 0.00008725, Accuracy:96.00%\n"
          ]
        },
        {
          "output_type": "stream",
          "name": "stderr",
          "text": [
            "100%|██████████| 600/600 [14:06<00:00,  1.41s/it]"
          ]
        },
        {
          "output_type": "stream",
          "name": "stdout",
          "text": [
            "tensor([0.4712, 0.4973], device='cuda:0', dtype=torch.float64,\n",
            "       grad_fn=<SelectBackward0>) tensor([0.4700, 0.5100], device='cuda:0', dtype=torch.float64)\n",
            "Epoch [2/2], Loss_Cls: 1.50117458, Loss_bb: 0.00013284, Accuracy:97.00%\n"
          ]
        },
        {
          "output_type": "stream",
          "name": "stderr",
          "text": [
            "\n"
          ]
        }
      ]
    },
    {
      "cell_type": "code",
      "source": [
        "import matplotlib.pyplot as plt\n",
        "import random\n",
        "\n",
        "# Set the number of rows and columns for the grid\n",
        "num_rows = 4\n",
        "num_cols = 4\n",
        "\n",
        "# Create a figure and axes for the grid\n",
        "fig, axes = plt.subplots(num_rows, num_cols, figsize=(10, 10))\n",
        "\n",
        "for i in range(num_rows):\n",
        "    for j in range(num_cols):\n",
        "        index = random.randint(0, 10000)\n",
        "        image, cls, bb1 = train_dataset[index]\n",
        "        bb = model1(image.unsqueeze(0).to(device))\n",
        "        cls = model2(image.unsqueeze(0).to(device))\n",
        "\n",
        "        # Plot the image\n",
        "        axes[i, j].imshow(image.permute(1, 2, 0), cmap=\"gray\")\n",
        "\n",
        "        # Set the title as the predicted class\n",
        "        num = torch.argmax(cls, dim = 1).item()\n",
        "        axes[i, j].set_title(num)\n",
        "\n",
        "        # Convert the bounding box predictions to numpy array and scale\n",
        "        bb = bb.cpu().detach().numpy()\n",
        "        bb1 = bb1 * 100\n",
        "        bb = bb * 100\n",
        "\n",
        "        # Get the x and y coordinates of the bounding box\n",
        "        x, y = bb[0, 0], bb[0, 1]\n",
        "\n",
        "        # Add a rectangle patch to the image\n",
        "        rect = plt.Rectangle((x, y), 28, 28, linewidth=2, edgecolor='r', facecolor='none')\n",
        "        axes[i, j].add_patch(rect)\n",
        "\n",
        "# Adjust the spacing between subplots\n",
        "plt.tight_layout()\n",
        "\n",
        "# Show the plot\n",
        "plt.show()\n"
      ],
      "metadata": {
        "id": "cC6iSsbSMXlA",
        "colab": {
          "base_uri": "https://localhost:8080/",
          "height": 1000
        },
        "outputId": "92595466-1ec4-4441-ba27-36380243fde6"
      },
      "execution_count": 29,
      "outputs": [
        {
          "output_type": "display_data",
          "data": {
            "text/plain": [
              "<Figure size 1000x1000 with 16 Axes>"
            ],
            "image/png": "[encoded data removed]"
          },
          "metadata": {}
        }
      ]
    },
    {
      "cell_type": "code",
      "source": [],
      "metadata": {
        "id": "946lg-eCcI6D"
      },
      "execution_count": null,
      "outputs": []
    }
  ]
}